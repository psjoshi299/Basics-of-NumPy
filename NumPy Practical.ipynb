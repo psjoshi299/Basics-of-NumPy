{
 "cells": [
  {
   "cell_type": "markdown",
   "id": "3bf48cb0",
   "metadata": {},
   "source": [
    "# Basics of NumPy"
   ]
  },
  {
   "cell_type": "markdown",
   "id": "80e6b133",
   "metadata": {},
   "source": [
    "Numerical Python is an open source Python library working with numerical data in Python."
   ]
  },
  {
   "cell_type": "code",
   "execution_count": 1,
   "id": "f22a6156",
   "metadata": {},
   "outputs": [
    {
     "name": "stdout",
     "output_type": "stream",
     "text": [
      "Note: you may need to restart the kernel to use updated packages.\n"
     ]
    },
    {
     "name": "stderr",
     "output_type": "stream",
     "text": [
      "ERROR: Invalid requirement: '#for'\n"
     ]
    }
   ],
   "source": [
    "pip install numpy     #for installing NumPy"
   ]
  },
  {
   "cell_type": "code",
   "execution_count": 2,
   "id": "39135a77",
   "metadata": {},
   "outputs": [],
   "source": [
    "import numpy as np    #To access NumPy and its functions"
   ]
  },
  {
   "cell_type": "code",
   "execution_count": 3,
   "id": "18d1f3d1",
   "metadata": {},
   "outputs": [],
   "source": [
    "a = np.array([[1, 2, 3, 4], [5, 6, 7, 8], [9, 10, 11, 12]])      #initialize NumPy arrays\n"
   ]
  },
  {
   "cell_type": "code",
   "execution_count": 4,
   "id": "bfce138f",
   "metadata": {},
   "outputs": [
    {
     "data": {
      "text/plain": [
       "array([[ 1,  2,  3,  4],\n",
       "       [ 5,  6,  7,  8],\n",
       "       [ 9, 10, 11, 12]])"
      ]
     },
     "execution_count": 4,
     "metadata": {},
     "output_type": "execute_result"
    }
   ],
   "source": [
    "a         #print the given array"
   ]
  },
  {
   "cell_type": "code",
   "execution_count": 5,
   "id": "e8405adc",
   "metadata": {},
   "outputs": [
    {
     "data": {
      "text/plain": [
       "array([1, 2, 3, 4])"
      ]
     },
     "execution_count": 5,
     "metadata": {},
     "output_type": "execute_result"
    }
   ],
   "source": [
    "a[0]     #access the first element"
   ]
  },
  {
   "cell_type": "code",
   "execution_count": 6,
   "id": "fb480987",
   "metadata": {},
   "outputs": [],
   "source": [
    "b = np.array([2, 1, 5, 3, 7, 4, 6, 8])\n"
   ]
  },
  {
   "cell_type": "code",
   "execution_count": 8,
   "id": "4e55be36",
   "metadata": {},
   "outputs": [
    {
     "data": {
      "text/plain": [
       "array([1, 2, 3, 4, 5, 6, 7, 8])"
      ]
     },
     "execution_count": 8,
     "metadata": {},
     "output_type": "execute_result"
    }
   ],
   "source": [
    "np.sort(b)      #sorting the array in ascending order"
   ]
  },
  {
   "cell_type": "code",
   "execution_count": 9,
   "id": "11cfff9d",
   "metadata": {},
   "outputs": [],
   "source": [
    "p = np.array([1, 2, 3, 4])\n",
    "q = np.array([5, 6, 7, 8])"
   ]
  },
  {
   "cell_type": "code",
   "execution_count": 10,
   "id": "c9130137",
   "metadata": {},
   "outputs": [
    {
     "data": {
      "text/plain": [
       "array([1, 2, 3, 4, 5, 6, 7, 8])"
      ]
     },
     "execution_count": 10,
     "metadata": {},
     "output_type": "execute_result"
    }
   ],
   "source": [
    "np.concatenate((p, q))      #combining both the arrays"
   ]
  },
  {
   "cell_type": "code",
   "execution_count": 11,
   "id": "6433b6d5",
   "metadata": {},
   "outputs": [
    {
     "data": {
      "text/plain": [
       "1"
      ]
     },
     "execution_count": 11,
     "metadata": {},
     "output_type": "execute_result"
    }
   ],
   "source": [
    "p.ndim           #no of dimensions of array"
   ]
  },
  {
   "cell_type": "code",
   "execution_count": 12,
   "id": "f024d392",
   "metadata": {},
   "outputs": [
    {
     "data": {
      "text/plain": [
       "4"
      ]
     },
     "execution_count": 12,
     "metadata": {},
     "output_type": "execute_result"
    }
   ],
   "source": [
    "p.size          #total no of elements in the array"
   ]
  },
  {
   "cell_type": "code",
   "execution_count": 13,
   "id": "34bfb838",
   "metadata": {},
   "outputs": [
    {
     "data": {
      "text/plain": [
       "(4,)"
      ]
     },
     "execution_count": 13,
     "metadata": {},
     "output_type": "execute_result"
    }
   ],
   "source": [
    "p.shape         #shape of the given array"
   ]
  },
  {
   "cell_type": "code",
   "execution_count": 14,
   "id": "df2fc2e7",
   "metadata": {},
   "outputs": [
    {
     "data": {
      "text/plain": [
       "2"
      ]
     },
     "execution_count": 14,
     "metadata": {},
     "output_type": "execute_result"
    }
   ],
   "source": [
    "p[1]          #indexing"
   ]
  },
  {
   "cell_type": "code",
   "execution_count": 15,
   "id": "a58dce76",
   "metadata": {},
   "outputs": [
    {
     "data": {
      "text/plain": [
       "array([1, 2])"
      ]
     },
     "execution_count": 15,
     "metadata": {},
     "output_type": "execute_result"
    }
   ],
   "source": [
    "p[0:2]        #slicing"
   ]
  },
  {
   "cell_type": "code",
   "execution_count": 16,
   "id": "288ca562",
   "metadata": {},
   "outputs": [
    {
     "data": {
      "text/plain": [
       "array([3, 4])"
      ]
     },
     "execution_count": 16,
     "metadata": {},
     "output_type": "execute_result"
    }
   ],
   "source": [
    "p[2:]"
   ]
  },
  {
   "cell_type": "code",
   "execution_count": 17,
   "id": "87f2d3c9",
   "metadata": {},
   "outputs": [
    {
     "data": {
      "text/plain": [
       "array([3, 4])"
      ]
     },
     "execution_count": 17,
     "metadata": {},
     "output_type": "execute_result"
    }
   ],
   "source": [
    "p[-2:]"
   ]
  },
  {
   "cell_type": "code",
   "execution_count": 19,
   "id": "f303afb1",
   "metadata": {},
   "outputs": [
    {
     "data": {
      "text/plain": [
       "1"
      ]
     },
     "execution_count": 19,
     "metadata": {},
     "output_type": "execute_result"
    }
   ],
   "source": [
    "p.min()        #minimum element"
   ]
  },
  {
   "cell_type": "code",
   "execution_count": 20,
   "id": "656818a0",
   "metadata": {},
   "outputs": [
    {
     "data": {
      "text/plain": [
       "4"
      ]
     },
     "execution_count": 20,
     "metadata": {},
     "output_type": "execute_result"
    }
   ],
   "source": [
    "p.max()       #maximum element"
   ]
  },
  {
   "cell_type": "code",
   "execution_count": 21,
   "id": "51ed43f2",
   "metadata": {},
   "outputs": [
    {
     "data": {
      "text/plain": [
       "10"
      ]
     },
     "execution_count": 21,
     "metadata": {},
     "output_type": "execute_result"
    }
   ],
   "source": [
    "p.sum()      #sum of all elements in the given array"
   ]
  },
  {
   "cell_type": "code",
   "execution_count": 22,
   "id": "8950fb5f",
   "metadata": {},
   "outputs": [
    {
     "data": {
      "text/plain": [
       "2.5"
      ]
     },
     "execution_count": 22,
     "metadata": {},
     "output_type": "execute_result"
    }
   ],
   "source": [
    "p.mean()     #to get the average"
   ]
  },
  {
   "cell_type": "code",
   "execution_count": 23,
   "id": "7a67b397",
   "metadata": {},
   "outputs": [
    {
     "data": {
      "text/plain": [
       "24"
      ]
     },
     "execution_count": 23,
     "metadata": {},
     "output_type": "execute_result"
    }
   ],
   "source": [
    "p.prod()     #to get the result of multiplying the elements together"
   ]
  },
  {
   "cell_type": "code",
   "execution_count": 24,
   "id": "ce0dcc45",
   "metadata": {},
   "outputs": [
    {
     "data": {
      "text/plain": [
       "1.118033988749895"
      ]
     },
     "execution_count": 24,
     "metadata": {},
     "output_type": "execute_result"
    }
   ],
   "source": [
    "p.std()     #standard deviation"
   ]
  },
  {
   "cell_type": "code",
   "execution_count": 25,
   "id": "3756ab96",
   "metadata": {},
   "outputs": [],
   "source": [
    "Transpose=p.T   #transpose of the given array"
   ]
  },
  {
   "cell_type": "code",
   "execution_count": 26,
   "id": "ab5234be",
   "metadata": {},
   "outputs": [
    {
     "data": {
      "text/plain": [
       "array([1, 2, 3, 4])"
      ]
     },
     "execution_count": 26,
     "metadata": {},
     "output_type": "execute_result"
    }
   ],
   "source": [
    "Transpose"
   ]
  },
  {
   "cell_type": "code",
   "execution_count": 27,
   "id": "7e851f06",
   "metadata": {},
   "outputs": [
    {
     "data": {
      "text/plain": [
       "4"
      ]
     },
     "execution_count": 27,
     "metadata": {},
     "output_type": "execute_result"
    }
   ],
   "source": [
    "len(p)         #length of the given array"
   ]
  },
  {
   "cell_type": "code",
   "execution_count": 29,
   "id": "c50f7990",
   "metadata": {},
   "outputs": [
    {
     "data": {
      "text/plain": [
       "array([1, 2, 3, 4])"
      ]
     },
     "execution_count": 29,
     "metadata": {},
     "output_type": "execute_result"
    }
   ],
   "source": [
    "np.sort(p)     #sorting"
   ]
  },
  {
   "cell_type": "code",
   "execution_count": 30,
   "id": "d877f44d",
   "metadata": {},
   "outputs": [
    {
     "data": {
      "text/plain": [
       "numpy.ndarray"
      ]
     },
     "execution_count": 30,
     "metadata": {},
     "output_type": "execute_result"
    }
   ],
   "source": [
    "type(p)"
   ]
  },
  {
   "cell_type": "code",
   "execution_count": 31,
   "id": "581132ce",
   "metadata": {},
   "outputs": [
    {
     "data": {
      "text/plain": [
       "dtype('int32')"
      ]
     },
     "execution_count": 31,
     "metadata": {},
     "output_type": "execute_result"
    }
   ],
   "source": [
    "p.dtype       #data-type"
   ]
  },
  {
   "cell_type": "code",
   "execution_count": null,
   "id": "8b3ff346",
   "metadata": {},
   "outputs": [],
   "source": []
  }
 ],
 "metadata": {
  "kernelspec": {
   "display_name": "Python 3 (ipykernel)",
   "language": "python",
   "name": "python3"
  },
  "language_info": {
   "codemirror_mode": {
    "name": "ipython",
    "version": 3
   },
   "file_extension": ".py",
   "mimetype": "text/x-python",
   "name": "python",
   "nbconvert_exporter": "python",
   "pygments_lexer": "ipython3",
   "version": "3.7.4"
  }
 },
 "nbformat": 4,
 "nbformat_minor": 5
}
